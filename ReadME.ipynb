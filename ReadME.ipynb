{
 "cells": [
  {
   "cell_type": "markdown",
   "metadata": {},
   "source": [
    "python_ver_3.6\n",
    "frameworks needed: Keras, Tensorflow, Sklearn,NumPy,Pandas\n",
    "\n",
    "# A recurrent neural network (RNN) is similar to a feedfoward neural-net/MLP with the differences in the algorithm is that it has the capability of backpropagation, where connections are also pointing backwards sending the output back into itself. At each time-step(t) this recurrent neuron receives its input (x(t)) as well as output from previous time step (y(t)-1). When there is only one neuron the outputs are scalar when there are more than one input, outputs will be vectors.\n",
    "\n",
    "# Since outputs for a recurrent neuron at each time-step is a function of all imputs from previous time-steps, this  will make the model have the abilty to maintain a form of memory in its cell. LONG SHORT TERM MEMORY CELLS(LSTM'S) have the ability to go through time freely while it could be removed or erased while variables could be added to it as well . \n",
    "\n",
    "\n",
    "    \n",
    "    \n",
    "    "
   ]
  },
  {
   "cell_type": "markdown",
   "metadata": {},
   "source": [
    "## Predicting stock prices is a difficult proccess given that the \"Browning Motion\" states that predicting stock prices is practically impossible because future variations of stock prices are independent of the past. While that is true it is possible to capture upward and downward trends of the stock prices with the correctly tuned model that can generate accurate predictions on various high dimensional datasets. \n",
    "\n",
    "## Given that the use of Recurrent Neural Network's can help perform a very complex optimization on time-series data for prediction(to a certain extent) for music generation as well as predicting future stock market prices. \n",
    "\n",
    "## This is very suitable for an implentation for analysis given that the data expands over an extended period of time, it will be easy for the network to recognize patterns along different dates in the data and predict the stock prices over the next month or longer as long as the network is robust enough.\n",
    "\n"
   ]
  },
  {
   "cell_type": "markdown",
   "metadata": {},
   "source": [
    "Bitcoin train dates: 07/16/2010 - 07/31/2018\n",
    "\n",
    "Ethereum train dates: 08/06/2015 - 08/15/2018\n",
    "\n",
    "Bitcoin Cash train dates: 07/31/2017 - 08/15/2018\n",
    "\n",
    "Ripple train dates: 01/21/2015 - 08/15/2018\n",
    "\n",
    "LiteCoin train dates: 10/23/2013 - 08/15/2018"
   ]
  },
  {
   "cell_type": "code",
   "execution_count": null,
   "metadata": {},
   "outputs": [],
   "source": []
  }
 ],
 "metadata": {
  "kernelspec": {
   "display_name": "Python 3",
   "language": "python",
   "name": "python3"
  },
  "language_info": {
   "codemirror_mode": {
    "name": "ipython",
    "version": 3
   },
   "file_extension": ".py",
   "mimetype": "text/x-python",
   "name": "python",
   "nbconvert_exporter": "python",
   "pygments_lexer": "ipython3",
   "version": "3.6.5"
  },
  "latex_envs": {
   "LaTeX_envs_menu_present": true,
   "autoclose": false,
   "autocomplete": true,
   "bibliofile": "biblio.bib",
   "cite_by": "apalike",
   "current_citInitial": 1,
   "eqLabelWithNumbers": true,
   "eqNumInitial": 1,
   "hotkeys": {
    "equation": "Ctrl-E",
    "itemize": "Ctrl-I"
   },
   "labels_anchors": false,
   "latex_user_defs": false,
   "report_style_numbering": true,
   "user_envs_cfg": false
  }
 },
 "nbformat": 4,
 "nbformat_minor": 2
}
